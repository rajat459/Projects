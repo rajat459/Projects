{
  "nbformat": 4,
  "nbformat_minor": 0,
  "metadata": {
    "colab": {
      "provenance": [],
      "authorship_tag": "ABX9TyO2IqzmcHKn2kv/rM+392+h",
      "include_colab_link": true
    },
    "kernelspec": {
      "name": "python3",
      "display_name": "Python 3"
    },
    "language_info": {
      "name": "python"
    }
  },
  "cells": [
    {
      "cell_type": "markdown",
      "metadata": {
        "id": "view-in-github",
        "colab_type": "text"
      },
      "source": [
        "<a href=\"https://colab.research.google.com/github/rajat459/Projects/blob/main/ATM_SIMULATION_PROJECT.ipynb\" target=\"_parent\"><img src=\"https://colab.research.google.com/assets/colab-badge.svg\" alt=\"Open In Colab\"/></a>"
      ]
    },
    {
      "cell_type": "code",
      "execution_count": null,
      "metadata": {
        "colab": {
          "base_uri": "https://localhost:8080/"
        },
        "id": "zGxE0UNpJ28j",
        "outputId": "9a424574-d577-41d8-b5db-9e5b8a834691"
      },
      "outputs": [
        {
          "output_type": "stream",
          "name": "stdout",
          "text": [
            "\n",
            "=== Welcome to Advanced ATM ===\n"
          ]
        }
      ],
      "source": [
        "import random\n",
        "import time\n",
        "\n",
        "class BankAccount:\n",
        "    def __init__(self, pin, name, balance=0):\n",
        "        self.pin = pin\n",
        "        self.name = name\n",
        "        self.balance = balance\n",
        "        self.transaction_history = []\n",
        "\n",
        "    def add_transaction(self, type, amount):\n",
        "        transaction = {\n",
        "            'type': type,\n",
        "            'amount': amount,\n",
        "            'balance': self.balance,\n",
        "            'time': time.strftime(\"%Y-%m-%d %H:%M:%S\")\n",
        "        }\n",
        "        self.transaction_history.append(transaction)\n",
        "\n",
        "def main():\n",
        "    # Sample account for demonstration\n",
        "    account = BankAccount(pin=1234, name=\"rajat nandi\", balance=1000)\n",
        "\n",
        "    print(\"\\n=== Welcome to Advanced ATM ===\")\n",
        "\n",
        "    # PIN verification\n",
        "    for attempt in range(3):\n",
        "        try:\n",
        "            entered_pin = int(input(\"\\nEnter your 4-digit PIN: \"))\n",
        "            if entered_pin == account.pin:\n",
        "                print(f\"\\nWelcome, {account.name}!\")\n",
        "                break\n",
        "            print(\"Incorrect PIN. Attempts left:\", 2 - attempt)\n",
        "        except ValueError:\n",
        "            print(\"Please enter numbers only\")\n",
        "    else:\n",
        "        print(\"\\nToo many wrong attempts. Card blocked.\")\n",
        "        return\n",
        "\n",
        "    while True:\n",
        "        print(\"\\nMain Menu:\")\n",
        "        print(\"1. Check Balance\")\n",
        "        print(\"2. Withdraw Cash\")\n",
        "        print(\"3. Deposit Cash\")\n",
        "        print(\"4. Transfer Money\")\n",
        "        print(\"5. Transaction History\")\n",
        "        print(\"6. Change PIN\")\n",
        "        print(\"7. Exit\")\n",
        "\n",
        "        choice = input(\"\\nChoose an option (1-7): \")\n",
        "\n",
        "        if choice == '1':\n",
        "            print(f\"\\nYour current balance: ${account.balance:.2f}\")\n",
        "\n",
        "        elif choice == '2':\n",
        "            try:\n",
        "                amount = float(input(\"\\nEnter amount to withdraw: $\"))\n",
        "                if amount <= 0:\n",
        "                    print(\"Amount must be positive\")\n",
        "                elif amount > account.balance:\n",
        "                    print(\"Insufficient funds!\")\n",
        "                else:\n",
        "                    account.balance -= amount\n",
        "                    account.add_transaction('WITHDRAWAL', amount)\n",
        "                    print(f\"\\nWithdrawal successful. New balance: ${account.balance:.2f}\")\n",
        "            except ValueError:\n",
        "                print(\"Invalid amount. Please enter numbers only\")\n",
        "\n",
        "        elif choice == '3':\n",
        "            try:\n",
        "                amount = float(input(\"\\nEnter amount to deposit: $\"))\n",
        "                if amount <= 0:\n",
        "                    print(\"Amount must be positive\")\n",
        "                else:\n",
        "                    account.balance += amount\n",
        "                    account.add_transaction('DEPOSIT', amount)\n",
        "                    print(f\"\\nDeposit successful. New balance: ${account.balance:.2f}\")\n",
        "            except ValueError:\n",
        "                print(\"Invalid amount. Please enter numbers only\")\n",
        "\n",
        "        elif choice == '4':\n",
        "            try:\n",
        "                amount = float(input(\"\\nEnter amount to transfer: $\"))\n",
        "                if amount <= 0:\n",
        "                    print(\"Amount must be positive\")\n",
        "                elif amount > account.balance:\n",
        "                    print(\"Insufficient funds!\")\n",
        "                else:\n",
        "                    target_account = input(\"Enter recipient account number: \")\n",
        "                    account.balance -= amount\n",
        "                    account.add_transaction('TRANSFER', amount)\n",
        "                    print(f\"\\nTransferred ${amount:.2f} to account {target_account}\")\n",
        "                    print(f\"New balance: ${account.balance:.2f}\")\n",
        "            except ValueError:\n",
        "                print(\"Invalid amount. Please enter numbers only\")\n",
        "\n",
        "        elif choice == '5':\n",
        "            print(\"\\nTransaction History:\")\n",
        "            if not account.transaction_history:\n",
        "                print(\"No transactions yet\")\n",
        "            else:\n",
        "                for t in account.transaction_history[-5:]:  # Show last 5 transactions\n",
        "                    print(f\"{t['time']} - {t['type']}: ${t['amount']:.2f} (Balance: ${t['balance']:.2f})\")\n",
        "\n",
        "        elif choice == '6':\n",
        "            try:\n",
        "                new_pin = int(input(\"\\nEnter new 4-digit PIN: \"))\n",
        "                confirm_pin = int(input(\"Confirm new PIN: \"))\n",
        "                if new_pin == confirm_pin and 1000 <= new_pin <= 9999:\n",
        "                    account.pin = new_pin\n",
        "                    print(\"PIN changed successfully\")\n",
        "                else:\n",
        "                    print(\"PINs don't match or invalid format (must be 4 digits)\")\n",
        "            except ValueError:\n",
        "                print(\"Please enter numbers only\")\n",
        "\n",
        "        elif choice == '7':\n",
        "            print(\"\\nThank you for banking with us!\")\n",
        "            print(f\"Session ID: {random.randint(10000, 99999)}\")\n",
        "            break\n",
        "\n",
        "        else:\n",
        "            print(\"\\nInvalid choice. Please select 1-7\")\n",
        "\n",
        "if __name__ == \"__main__\":\n",
        "    main()"
      ]
    },
    {
      "cell_type": "code",
      "source": [],
      "metadata": {
        "id": "QlP6zLjkfzgm"
      },
      "execution_count": null,
      "outputs": []
    }
  ]
}